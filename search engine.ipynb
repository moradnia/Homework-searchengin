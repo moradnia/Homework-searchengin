{
 "cells": [
  {
   "cell_type": "markdown",
   "metadata": {},
   "source": [
    "# urls\n",
    "https://raw.githubusercontent.com/CriMenghini/ADM/master/2019/Homework_3/data/movies3.html\n",
    "\n",
    "\n",
    "https://raw.githubusercontent.com/CriMenghini/ADM/master/2019/Homework_3/data/movies2.html\n",
    "    \n",
    "https://raw.githubusercontent.com/CriMenghini/ADM/master/2019/Homework_3/data/movies1.html"
   ]
  },
  {
   "cell_type": "code",
   "execution_count": 1,
   "metadata": {},
   "outputs": [],
   "source": [
    "urls = [' https://raw.githubusercontent.com/CriMenghini/ADM/master/2019/Homework_3/data/movies3.html',\n",
    "        'https://raw.githubusercontent.com/CriMenghini/ADM/master/2019/Homework_3/data/movies2.html',\n",
    "        'https://raw.githubusercontent.com/CriMenghini/ADM/master/2019/Homework_3/data/movies1.html']"
   ]
  },
  {
   "cell_type": "markdown",
   "metadata": {},
   "source": [
    "# Import"
   ]
  },
  {
   "cell_type": "code",
   "execution_count": 2,
   "metadata": {},
   "outputs": [],
   "source": [
    "import requests\n",
    "from bs4 import BeautifulSoup\n",
    "import random\n",
    "import time\n",
    "import re\n",
    "from lxml import etree\n",
    "import lxml.html\n",
    "import nltk\n",
    "from nltk.corpus import stopwords\n",
    "from nltk.tokenize import word_tokenize\n",
    "from nltk.stem import PorterStemmer\n",
    "from nltk.tokenize import sent_tokenize, word_tokenize"
   ]
  },
  {
   "cell_type": "markdown",
   "metadata": {},
   "source": [
    "# Extract movie links"
   ]
  },
  {
   "cell_type": "code",
   "execution_count": 3,
   "metadata": {},
   "outputs": [],
   "source": [
    "movie_links = []\n",
    "for url in urls:\n",
    "    try:\n",
    "        response = requests.get(url)\n",
    "        soup = BeautifulSoup(response.text, 'html.parser')\n",
    "        for link in soup.find_all('a',href=True):\n",
    "            movie_links.append(link['href'])\n",
    "    except Exception as ex:\n",
    "        print('error is ', ex)"
   ]
  },
  {
   "cell_type": "code",
   "execution_count": 4,
   "metadata": {},
   "outputs": [
    {
     "data": {
      "text/plain": [
       "30000"
      ]
     },
     "execution_count": 4,
     "metadata": {},
     "output_type": "execute_result"
    }
   ],
   "source": [
    "len(movie_links)"
   ]
  },
  {
   "cell_type": "code",
   "execution_count": 5,
   "metadata": {},
   "outputs": [
    {
     "data": {
      "text/plain": [
       "['https://en.wikipedia.org/wiki/Z.P.G.',\n",
       " 'https://en.wikipedia.org/wiki/Zee_and_Co.',\n",
       " 'https://en.wikipedia.org/wiki/And_Now_the_Screaming_Starts!',\n",
       " 'https://en.wikipedia.org/wiki/The_Asphyx',\n",
       " 'https://en.wikipedia.org/wiki/Assassin_(1973_film)']"
      ]
     },
     "execution_count": 5,
     "metadata": {},
     "output_type": "execute_result"
    }
   ],
   "source": [
    "movie_links[:5]"
   ]
  },
  {
   "cell_type": "markdown",
   "metadata": {},
   "source": [
    "# Stopwords"
   ]
  },
  {
   "cell_type": "code",
   "execution_count": 30,
   "metadata": {},
   "outputs": [],
   "source": [
    "tokens_without_sw_intro = []\n",
    "def rm_stopwords(text):\n",
    "    new_text = text.lower()\n",
    "    global tokens_without_sw_intro\n",
    "    stop_words = set(stopwords.words('english')) \n",
    "    text_tokens_intro = word_tokenize(new_text)\n",
    "    tokens_without_sw_intro = [word for word in text_tokens_intro if not word in stopwords.words()]\n",
    "   \n",
    "    return tokens_without_sw_intro\n",
    "    "
   ]
  },
  {
   "cell_type": "markdown",
   "metadata": {},
   "source": [
    "# Punctuation"
   ]
  },
  {
   "cell_type": "code",
   "execution_count": 31,
   "metadata": {},
   "outputs": [],
   "source": [
    "new_words_intro =[]\n",
    "def rm_punctuation ():\n",
    "    global new_words_intro\n",
    "    tokenizer = nltk.RegexpTokenizer(r\"\\w+\")\n",
    "    punc_intro = \",\".join(tokens_without_sw_intro)\n",
    "    new_words_intro = tokenizer.tokenize(punc_intro)\n",
    "    return new_words_intro"
   ]
  },
  {
   "cell_type": "markdown",
   "metadata": {},
   "source": [
    "# Stemming"
   ]
  },
  {
   "cell_type": "code",
   "execution_count": 49,
   "metadata": {},
   "outputs": [],
   "source": [
    "# streaming_intro = []\n",
    "def stemming():\n",
    "    global streaming_intro\n",
    "    streaming_intro = []\n",
    "    ps = PorterStemmer()\n",
    "    for x in new_words_intro:\n",
    "        \n",
    "        streaming_intro.append(ps.stem(x))\n",
    "    return streaming_intro"
   ]
  },
  {
   "cell_type": "markdown",
   "metadata": {},
   "source": [
    "# Final normalize"
   ]
  },
  {
   "cell_type": "code",
   "execution_count": 53,
   "metadata": {},
   "outputs": [],
   "source": [
    "# final_intro = []\n",
    "def Final_normalize():\n",
    "    global streaming_intro\n",
    "    final_intro = []\n",
    "    for i in streaming_intro:\n",
    "        if len(i) > 3:\n",
    "            final_intro.append(i)\n",
    "    return \" \".join(final_intro)"
   ]
  },
  {
   "cell_type": "markdown",
   "metadata": {},
   "source": [
    "# Title"
   ]
  },
  {
   "cell_type": "code",
   "execution_count": 70,
   "metadata": {},
   "outputs": [
    {
     "name": "stdout",
     "output_type": "stream",
     "text": [
      "Z.P.G. \n",
      "Zee and Co. \n",
      "And Now the Screaming Starts! \n"
     ]
    }
   ],
   "source": [
    "for t in movie_links[:3]:\n",
    "    web_response = requests.get(t)\n",
    "    soup = BeautifulSoup(web_response.text, 'html.parser')\n",
    "    title = soup.title.text.split('-')\n",
    "    title = title[0]\n",
    "    print(title)"
   ]
  },
  {
   "cell_type": "markdown",
   "metadata": {},
   "source": [
    "# Intro"
   ]
  },
  {
   "cell_type": "code",
   "execution_count": 58,
   "metadata": {},
   "outputs": [],
   "source": [
    "for i in movie_links[:3]:\n",
    "#     print(i)\n",
    "    response = requests.get(i) \n",
    "    soup = BeautifulSoup(response.text, 'html.parser')\n",
    "    intro =  soup.find('div' , { \"id\" : \"toc\" }).find_all_previous('p')[::-1]\n",
    "    l=[]\n",
    "    for i in intro:\n",
    "        x = i.text.strip()\n",
    "        if x != '':\n",
    "            l.append(x)\n",
    "    y= \" \".join(l)\n",
    "    # remove stopwords\n",
    "    rm_stopword_intro = rm_stopwords(y)\n",
    "    #remove punchtuation\n",
    "    rm_punc_intro=rm_punctuation()\n",
    "\n",
    "   # stemmer\n",
    "    steming_intro = stemming()\n",
    "   \n",
    "    # final_normalize\n",
    "    final_norm_intro = Final_normalize()\n"
   ]
  },
  {
   "cell_type": "markdown",
   "metadata": {},
   "source": [
    "# plot"
   ]
  },
  {
   "cell_type": "code",
   "execution_count": 65,
   "metadata": {},
   "outputs": [],
   "source": [
    "for p in movie_links[:3]: \n",
    "    response = requests.get(p) \n",
    "    soup = BeautifulSoup(response.text, 'html.parser')\n",
    "    plot =  soup.find('span' , { \"class\" : \"mw-editsection-bracket\" }).find_next('p')\n",
    "    final_plot = plot.text.strip()\n",
    "    # remove stopwords\n",
    "    rm_stopword = rm_stopwords(final_plot)\n",
    "    \n",
    "    # remove punch\n",
    "    rm_punc=rm_punctuation()\n",
    "\n",
    "    # stemmer\n",
    "    steming = stemming()\n",
    "    \n",
    "    #final_normalize\n",
    "    final_norm = Final_normalize()\n",
    "    "
   ]
  },
  {
   "cell_type": "markdown",
   "metadata": {},
   "source": [
    "# Table"
   ]
  },
  {
   "cell_type": "code",
   "execution_count": 74,
   "metadata": {},
   "outputs": [],
   "source": [
    "for a in movie_links[:3]:\n",
    "    response = requests.get(a) \n",
    "    soup = BeautifulSoup(response.text, 'html.parser')\n",
    "    table = soup.find('table', class_ = 'infobox vevent')\n",
    "    element_tree = lxml.html.fromstring(response.text)\n",
    "    check_list = ['movie name','Directed by','Produced by',\n",
    "                  'Written by','Starring','Music by',\n",
    "                  'Release date','Running time','Country',\n",
    "                  'Language','Budget']\n",
    "    info = []\n",
    "\n",
    "    vocabulary=[]\n",
    "\n",
    "    stars ='//*[@id=\"mw-content-text\"]/div[1]/table/tbody/tr[6]/td/div/ul/li/*/text()'\n",
    "    writen ='//*[@id=\"mw-content-text\"]/div[1]/table/tbody/tr[5]/td//a/text()'\n",
    "    Path =[\n",
    "        '//*[@id=\"mw-content-text\"]/div[1]/table/tbody/tr[1]/th/text()',\n",
    "        '//*[@id=\"mw-content-text\"]/div[1]/table/tbody/tr[3]/td/a/text()',\n",
    "        '//*[@id=\"mw-content-text\"]/div[1]/table/tbody/tr[4]/td/text()',\n",
    "        writen,\n",
    "        stars,\n",
    "        '//*[@id=\"mw-content-text\"]/div[1]/table/tbody/tr[7]/td/a/text()',\n",
    "        '//*[@id=\"mw-content-text\"]/div[1]/table/tbody/tr[12]/td/div/ul/li/text()',\n",
    "        '//*[@id=\"mw-content-text\"]/div[1]/table/tbody/tr[13]/td/text()',\n",
    "        '//*[@id=\"mw-content-text\"]/div[1]/table/tbody/tr[14]/td/text()',\n",
    "        '//*[@id=\"mw-content-text\"]/div[1]/table/tbody/tr[15]/td/text()',\n",
    "        '//*[@id=\"mw-content-text\"]/div[1]/table/tbody/tr[16]/td/text()'\n",
    "\n",
    "    ]\n",
    "    for i in Path:\n",
    "        if element_tree.xpath(i):\n",
    "            info.append(element_tree.xpath(i))\n",
    "            vocabulary.append(element_tree.xpath(i))\n",
    "        else:\n",
    "            info.append(\"NA\")\n",
    "\n",
    "    dictionaty= dict(zip([x for x in range(len(vocabulary))],vocabulary))\n",
    "    print(dictionaty)"
   ]
  },
  {
   "cell_type": "code",
   "execution_count": 75,
   "metadata": {},
   "outputs": [
    {
     "name": "stdout",
     "output_type": "stream",
     "text": [
      "{0: ['10 to Midnight'], 1: ['J. Lee Thompson'], 2: ['Pancho Kohner', 'Lance Hool'], 3: ['William Roberts', 'J. Lee Thompson'], 4: ['Charles Bronson', 'Lisa Eilbacher', 'Andrew Stevens', 'Gene Davis', 'Geoffrey Lewis', 'Wilford Brimley'], 5: ['Robert O. Ragland'], 6: ['March\\xa011,\\xa01983', ' (United States)'], 7: ['101 minutes'], 8: ['United States'], 9: ['English'], 10: ['$4,520,000 (US)']}\n"
     ]
    }
   ],
   "source": [
    "print(dictionaty)"
   ]
  },
  {
   "cell_type": "code",
   "execution_count": 76,
   "metadata": {},
   "outputs": [
    {
     "name": "stdout",
     "output_type": "stream",
     "text": [
      "[['10 to Midnight'], ['J. Lee Thompson'], ['Pancho Kohner', 'Lance Hool'], ['William Roberts', 'J. Lee Thompson'], ['Charles Bronson', 'Lisa Eilbacher', 'Andrew Stevens', 'Gene Davis', 'Geoffrey Lewis', 'Wilford Brimley'], ['Robert O. Ragland'], ['March\\xa011,\\xa01983', ' (United States)'], ['101 minutes'], ['United States'], ['English'], ['$4,520,000 (US)']]\n"
     ]
    }
   ],
   "source": [
    "print(vocabulary)"
   ]
  },
  {
   "cell_type": "code",
   "execution_count": 77,
   "metadata": {},
   "outputs": [
    {
     "name": "stdout",
     "output_type": "stream",
     "text": [
      "[['10 to Midnight'], ['J. Lee Thompson'], ['Pancho Kohner', 'Lance Hool'], ['William Roberts', 'J. Lee Thompson'], ['Charles Bronson', 'Lisa Eilbacher', 'Andrew Stevens', 'Gene Davis', 'Geoffrey Lewis', 'Wilford Brimley'], ['Robert O. Ragland'], ['March\\xa011,\\xa01983', ' (United States)'], ['101 minutes'], ['United States'], ['English'], ['$4,520,000 (US)']]\n"
     ]
    }
   ],
   "source": [
    "print(info)"
   ]
  },
  {
   "cell_type": "markdown",
   "metadata": {},
   "source": [
    "# Table information with lxml.xpath"
   ]
  },
  {
   "cell_type": "code",
   "execution_count": 128,
   "metadata": {},
   "outputs": [
    {
     "name": "stdout",
     "output_type": "stream",
     "text": [
      "https://en.wikipedia.org/wiki/Z.P.G.\n",
      "['Michael Campus'] ['Frank De Felitta', 'Max Simon Ehrlich', 'Tom Madigan'] ['Frank De Felitta', 'Max Simon Ehrlich'] ['Oliver Reed', 'Geraldine Chaplin', 'Don Gordon', 'Diane Cilento'] ['Jonathan Hodge'] [] ['97 minutes'] ['Denmark', 'United States'] ['English'] []\n",
      "****************************************************************************************************\n",
      "https://en.wikipedia.org/wiki/Zee_and_Co.\n",
      "['Brian G. Hutton'] ['Elliot Kastner', 'Jay Kanter', 'Alan Ladd, Jr.'] [\"Edna O'Brien\"] ['Elizabeth Taylor', 'Michael Caine', 'Susannah York'] ['Stanley Myers'] [] ['21 January 1972'] ['110 minutes'] ['United Kingdom'] []\n",
      "****************************************************************************************************\n",
      "https://en.wikipedia.org/wiki/And_Now_the_Screaming_Starts!\n",
      "['Roy Ward Baker'] ['Max J. Rosenberg', 'Milton Subotsky'] ['Roger Marshall'] ['Fengriffen', ' (novella)', 'by ', 'David Case'] ['Peter Cushing', 'Herbert Lom', 'Patrick Magee', 'Stephanie Beacham', 'Ian Ogilvy', 'Geoffrey Whitehead'] [] ['Fox-Rank'] [] ['91 minutes'] ['$500,000']\n",
      "****************************************************************************************************\n"
     ]
    }
   ],
   "source": [
    "for p in movie_links[:3]:\n",
    "    try:\n",
    "        response = requests.get(p) \n",
    "        element_tree = lxml.html.fromstring(response.text)\n",
    "        Directed = element_tree.xpath('//*[@id=\"mw-content-text\"]/div[1]/table/tbody/tr[3]/td//text()')\n",
    "        Produced  = element_tree.xpath('//*[@id=\"mw-content-text\"]/div[1]/table/tbody/tr[4]/td//text()')\n",
    "        Written = element_tree.xpath('//*[@id=\"mw-content-text\"]/div[1]/table/tbody/tr[5]/td//text()')\n",
    "        Starring = element_tree.xpath('//*[@id=\"mw-content-text\"]/div[1]/table/tbody/tr[6]/td//text()')\n",
    "        Music = element_tree.xpath('//*[@id=\"mw-content-text\"]/div[1]/table/tbody/tr[7]/td//text()')\n",
    "        Relasedate = element_tree.xpath('//*[@id=\"mw-content-text\"]/div[1]/table[1]/tbody/tr[9]/td/div/ul/li/text()')\n",
    "        Runtime = element_tree.xpath('//*[@id=\"mw-content-text\"]/div[1]/table/tbody/tr[12]/td//text()')\n",
    "        country = element_tree.xpath('//*[@id=\"mw-content-text\"]/div[1]/table/tbody/tr[13]/td/text()')\n",
    "        language = element_tree.xpath('//*[@id=\"mw-content-text\"]/div[1]/table/tbody/tr[14]/td//text()')\n",
    "        Budget = element_tree.xpath('//*[@id=\"mw-content-text\"]/div[1]/table/tbody/tr[17]/td/text()')\n",
    "        print(p)\n",
    "        print(Directed,Produced,Written,Starring,Music,Relasedate,Runtime,country,language,Budget, end = '\\n')\n",
    "        print('*'*100)\n",
    "    except Exception as ex:\n",
    "        print('error is ', ex)\n"
   ]
  },
  {
   "cell_type": "markdown",
   "metadata": {},
   "source": [
    "# Table information with bs4"
   ]
  },
  {
   "cell_type": "code",
   "execution_count": 135,
   "metadata": {},
   "outputs": [],
   "source": [
    "response = requests.get('https://en.wikipedia.org/wiki/Z.P.G.') \n",
    "soup = BeautifulSoup(response.text, 'html.parser')\n",
    "table = soup.find('table', class_ = 'infobox vevent')"
   ]
  },
  {
   "cell_type": "code",
   "execution_count": 145,
   "metadata": {},
   "outputs": [
    {
     "name": "stdout",
     "output_type": "stream",
     "text": [
      "Michael Campus\n",
      "Frank De FelittaMax Simon EhrlichTom Madigan\n",
      "Frank De FelittaMax Simon Ehrlich\n",
      "Oliver ReedGeraldine ChaplinDon GordonDiane Cilento\n",
      "Jonathan Hodge\n",
      "Michael ReedMikael Salomon\n",
      "Dennis Lanning\n",
      "Scotia-Barber\n",
      "\n",
      "25 May 1972 (1972-05-25)\n",
      "\n",
      "97 minutes\n",
      "DenmarkUnited States[1]\n",
      "English\n"
     ]
    }
   ],
   "source": [
    "for x in table.find_all('tr')[2:]:\n",
    "    for i in x.find_all('td'):\n",
    "        print(i.text,end='\\n')"
   ]
  },
  {
   "cell_type": "code",
   "execution_count": 220,
   "metadata": {},
   "outputs": [
    {
     "name": "stdout",
     "output_type": "stream",
     "text": [
      "{'Directed by': 'Michael Campus', 'Produced by': 'Frank De FelittaMax Simon EhrlichTom Madigan', 'Written by': 'Frank De FelittaMax Simon Ehrlich', 'Starring': 'Oliver ReedGeraldine ChaplinDon GordonDiane Cilento', 'Music by': 'Jonathan Hodge', 'Release date': '\\n25\\xa0May\\xa01972\\xa0(1972-05-25)\\n', 'Running time': '97 minutes', 'Countries': 'DenmarkUnited States[1]', 'Language': 'English', 'Budget': 'NA'}\n"
     ]
    }
   ],
   "source": [
    "check_list = ['Directed by','Produced by','Written by','Starring','Music by','Release date','Running time','Countries',\n",
    "              'Language','Budget']\n",
    "d={}\n",
    "for x in table.find_all('tr')[2:]:\n",
    "    if x.th.text in check_list:\n",
    "        for i in x.find_all('th'):\n",
    "            for y in x.find_all('td'):\n",
    "                d[i.text]=y.text\n",
    "                \n",
    "for i in check_list:\n",
    "    if i not in d.keys():\n",
    "        d[i]= 'NA'\n",
    "print(d)"
   ]
  },
  {
   "cell_type": "code",
   "execution_count": null,
   "metadata": {},
   "outputs": [],
   "source": [
    "# Release date': '\\n25\\xa0May\\xa01972\\xa0(1972-05-25)\\n'\n",
    "# how to fix ???"
   ]
  }
 ],
 "metadata": {
  "kernelspec": {
   "display_name": "Python 3",
   "language": "python",
   "name": "python3"
  },
  "language_info": {
   "codemirror_mode": {
    "name": "ipython",
    "version": 3
   },
   "file_extension": ".py",
   "mimetype": "text/x-python",
   "name": "python",
   "nbconvert_exporter": "python",
   "pygments_lexer": "ipython3",
   "version": "3.8.5"
  }
 },
 "nbformat": 4,
 "nbformat_minor": 4
}
